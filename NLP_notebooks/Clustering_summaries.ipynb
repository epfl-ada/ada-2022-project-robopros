{
 "cells": [
  {
   "cell_type": "markdown",
   "metadata": {},
   "source": [
    "Avoid executing the wrapped or commented cells as they are computationally heavy. Intermediate results are saved as pickled"
   ]
  },
  {
   "cell_type": "code",
   "execution_count": 1,
   "metadata": {},
   "outputs": [],
   "source": [
    "#!pip install -U sentence-transformers > /dev/null"
   ]
  },
  {
   "cell_type": "code",
   "execution_count": 51,
   "metadata": {},
   "outputs": [
    {
     "name": "stdout",
     "output_type": "stream",
     "text": [
      "huggingface/tokenizers: The current process just got forked, after parallelism has already been used. Disabling parallelism to avoid deadlocks...\n",
      "To disable this warning, you can either:\n",
      "\t- Avoid using `tokenizers` before the fork if possible\n",
      "\t- Explicitly set the environment variable TOKENIZERS_PARALLELISM=(true | false)\n",
      "Collecting fast_pagerank\n",
      "  Downloading fast_pagerank-0.0.4-py3-none-any.whl (5.2 kB)\n",
      "Installing collected packages: fast_pagerank\n",
      "Successfully installed fast_pagerank-0.0.4\n"
     ]
    }
   ],
   "source": [
    "#!pip install fast_pagerank"
   ]
  },
  {
   "cell_type": "code",
   "execution_count": 52,
   "metadata": {},
   "outputs": [],
   "source": [
    "import json\n",
    "import sklearn\n",
    "import sklearn.model_selection\n",
    "from sklearn.manifold import TSNE\n",
    "import pandas as pd\n",
    "import numpy as np\n",
    "import matplotlib.pyplot as plt\n",
    "from sklearn.cluster import AgglomerativeClustering\n",
    "from sklearn.metrics.pairwise import cosine_similarity\n",
    "from scipy import sparse\n",
    "from fast_pagerank import pagerank"
   ]
  },
  {
   "cell_type": "code",
   "execution_count": 7,
   "metadata": {},
   "outputs": [],
   "source": [
    "# read plot summary dataframe \n",
    "df = pd.read_csv('../data_test/plot_summaries.csv')"
   ]
  },
  {
   "cell_type": "code",
   "execution_count": 3,
   "metadata": {},
   "outputs": [
    {
     "data": {
      "application/vnd.jupyter.widget-view+json": {
       "model_id": "a22f266e291c451e89768dd647e6eda5",
       "version_major": 2,
       "version_minor": 0
      },
      "text/plain": [
       "Downloading:   0%|          | 0.00/1.18k [00:00<?, ?B/s]"
      ]
     },
     "metadata": {},
     "output_type": "display_data"
    },
    {
     "data": {
      "application/vnd.jupyter.widget-view+json": {
       "model_id": "05df66275c9f4e759d22dc81a835f56b",
       "version_major": 2,
       "version_minor": 0
      },
      "text/plain": [
       "Downloading:   0%|          | 0.00/190 [00:00<?, ?B/s]"
      ]
     },
     "metadata": {},
     "output_type": "display_data"
    },
    {
     "data": {
      "application/vnd.jupyter.widget-view+json": {
       "model_id": "3208d5cf601045cb89ab548351e30e23",
       "version_major": 2,
       "version_minor": 0
      },
      "text/plain": [
       "Downloading:   0%|          | 0.00/10.6k [00:00<?, ?B/s]"
      ]
     },
     "metadata": {},
     "output_type": "display_data"
    },
    {
     "data": {
      "application/vnd.jupyter.widget-view+json": {
       "model_id": "ef1e52558cec44af960d74f6a542bef2",
       "version_major": 2,
       "version_minor": 0
      },
      "text/plain": [
       "Downloading:   0%|          | 0.00/612 [00:00<?, ?B/s]"
      ]
     },
     "metadata": {},
     "output_type": "display_data"
    },
    {
     "data": {
      "application/vnd.jupyter.widget-view+json": {
       "model_id": "c0e472f3e91c46fdbbda9f1d4e084681",
       "version_major": 2,
       "version_minor": 0
      },
      "text/plain": [
       "Downloading:   0%|          | 0.00/116 [00:00<?, ?B/s]"
      ]
     },
     "metadata": {},
     "output_type": "display_data"
    },
    {
     "data": {
      "application/vnd.jupyter.widget-view+json": {
       "model_id": "25eb9e31c7bf4f8a8ac0500e9e25f4a4",
       "version_major": 2,
       "version_minor": 0
      },
      "text/plain": [
       "Downloading:   0%|          | 0.00/39.3k [00:00<?, ?B/s]"
      ]
     },
     "metadata": {},
     "output_type": "display_data"
    },
    {
     "data": {
      "application/vnd.jupyter.widget-view+json": {
       "model_id": "251075f8526443d394dbb3639500a396",
       "version_major": 2,
       "version_minor": 0
      },
      "text/plain": [
       "Downloading:   0%|          | 0.00/90.9M [00:00<?, ?B/s]"
      ]
     },
     "metadata": {},
     "output_type": "display_data"
    },
    {
     "data": {
      "application/vnd.jupyter.widget-view+json": {
       "model_id": "7dab0271d8d64d0bbc9af3c9d6df51c6",
       "version_major": 2,
       "version_minor": 0
      },
      "text/plain": [
       "Downloading:   0%|          | 0.00/53.0 [00:00<?, ?B/s]"
      ]
     },
     "metadata": {},
     "output_type": "display_data"
    },
    {
     "data": {
      "application/vnd.jupyter.widget-view+json": {
       "model_id": "d81c5f43dfa446b7a70aeaf253f32c36",
       "version_major": 2,
       "version_minor": 0
      },
      "text/plain": [
       "Downloading:   0%|          | 0.00/112 [00:00<?, ?B/s]"
      ]
     },
     "metadata": {},
     "output_type": "display_data"
    },
    {
     "data": {
      "application/vnd.jupyter.widget-view+json": {
       "model_id": "51e7157feff946be8253d8f36eeb8dc9",
       "version_major": 2,
       "version_minor": 0
      },
      "text/plain": [
       "Downloading:   0%|          | 0.00/466k [00:00<?, ?B/s]"
      ]
     },
     "metadata": {},
     "output_type": "display_data"
    },
    {
     "data": {
      "application/vnd.jupyter.widget-view+json": {
       "model_id": "83d7979b41d042e48ac99e0ebe74958d",
       "version_major": 2,
       "version_minor": 0
      },
      "text/plain": [
       "Downloading:   0%|          | 0.00/350 [00:00<?, ?B/s]"
      ]
     },
     "metadata": {},
     "output_type": "display_data"
    },
    {
     "data": {
      "application/vnd.jupyter.widget-view+json": {
       "model_id": "76f50980386241d3a913bbd9b65814c3",
       "version_major": 2,
       "version_minor": 0
      },
      "text/plain": [
       "Downloading:   0%|          | 0.00/13.2k [00:00<?, ?B/s]"
      ]
     },
     "metadata": {},
     "output_type": "display_data"
    },
    {
     "data": {
      "application/vnd.jupyter.widget-view+json": {
       "model_id": "d473dcecc82342af93c754f70a34a7ed",
       "version_major": 2,
       "version_minor": 0
      },
      "text/plain": [
       "Downloading:   0%|          | 0.00/232k [00:00<?, ?B/s]"
      ]
     },
     "metadata": {},
     "output_type": "display_data"
    },
    {
     "data": {
      "application/vnd.jupyter.widget-view+json": {
       "model_id": "669cc6e07be843c48c3c1fb57c5d4f03",
       "version_major": 2,
       "version_minor": 0
      },
      "text/plain": [
       "Downloading:   0%|          | 0.00/349 [00:00<?, ?B/s]"
      ]
     },
     "metadata": {},
     "output_type": "display_data"
    }
   ],
   "source": [
    "from sentence_transformers import SentenceTransformer, util\n",
    "model = SentenceTransformer('all-MiniLM-L6-v2')"
   ]
  },
  {
   "cell_type": "code",
   "execution_count": 9,
   "metadata": {},
   "outputs": [
    {
     "name": "stdout",
     "output_type": "stream",
     "text": [
      "CPU times: user 1h 35min 58s, sys: 1min 39s, total: 1h 37min 38s\n",
      "Wall time: 1h 38min 16s\n"
     ]
    }
   ],
   "source": [
    "%%time  \n",
    "embedd =False\n",
    "if embedd == True:\n",
    "    # embedd plot summaries\n",
    "    df[\"Embeddings\"] = df[\"Summary\"].apply(lambda x: model.encode(x))\n",
    "    df.to_pickle('../data_test/plot_summaries_embeddings.pkl')"
   ]
  },
  {
   "cell_type": "markdown",
   "metadata": {},
   "source": [
    "Read Data to avoid executing the previous steps as they take more than one hour"
   ]
  },
  {
   "cell_type": "code",
   "execution_count": 13,
   "metadata": {},
   "outputs": [],
   "source": [
    "df = pd.read_pickle('../data_test/plot_summaries_embeddings.pkl')"
   ]
  },
  {
   "cell_type": "code",
   "execution_count": 14,
   "metadata": {},
   "outputs": [
    {
     "data": {
      "text/html": [
       "<div>\n",
       "<style scoped>\n",
       "    .dataframe tbody tr th:only-of-type {\n",
       "        vertical-align: middle;\n",
       "    }\n",
       "\n",
       "    .dataframe tbody tr th {\n",
       "        vertical-align: top;\n",
       "    }\n",
       "\n",
       "    .dataframe thead th {\n",
       "        text-align: right;\n",
       "    }\n",
       "</style>\n",
       "<table border=\"1\" class=\"dataframe\">\n",
       "  <thead>\n",
       "    <tr style=\"text-align: right;\">\n",
       "      <th></th>\n",
       "      <th>Wikipedia_Movie_ID</th>\n",
       "      <th>Summary</th>\n",
       "      <th>Embeddings</th>\n",
       "    </tr>\n",
       "  </thead>\n",
       "  <tbody>\n",
       "    <tr>\n",
       "      <th>0</th>\n",
       "      <td>23890098</td>\n",
       "      <td>Shlykov, a hard-working taxi driver and Lyosha...</td>\n",
       "      <td>[-0.0071002566, -0.010865058, -0.035646204, 0....</td>\n",
       "    </tr>\n",
       "    <tr>\n",
       "      <th>1</th>\n",
       "      <td>31186339</td>\n",
       "      <td>The nation of Panem consists of a wealthy Capi...</td>\n",
       "      <td>[0.05230585, 0.075655825, -0.002792074, -0.119...</td>\n",
       "    </tr>\n",
       "  </tbody>\n",
       "</table>\n",
       "</div>"
      ],
      "text/plain": [
       "   Wikipedia_Movie_ID                                            Summary  \\\n",
       "0            23890098  Shlykov, a hard-working taxi driver and Lyosha...   \n",
       "1            31186339  The nation of Panem consists of a wealthy Capi...   \n",
       "\n",
       "                                          Embeddings  \n",
       "0  [-0.0071002566, -0.010865058, -0.035646204, 0....  \n",
       "1  [0.05230585, 0.075655825, -0.002792074, -0.119...  "
      ]
     },
     "execution_count": 14,
     "metadata": {},
     "output_type": "execute_result"
    }
   ],
   "source": [
    "df.head(2)"
   ]
  },
  {
   "cell_type": "code",
   "execution_count": 15,
   "metadata": {},
   "outputs": [],
   "source": [
    "random_state = 42"
   ]
  },
  {
   "cell_type": "markdown",
   "metadata": {},
   "source": [
    "TSNE 10"
   ]
  },
  {
   "cell_type": "code",
   "execution_count": 18,
   "metadata": {},
   "outputs": [],
   "source": [
    "model_tsne = TSNE(perplexity=10, n_components=2, init='pca', n_iter=2500, random_state=random_state)"
   ]
  },
  {
   "cell_type": "code",
   "execution_count": 26,
   "metadata": {},
   "outputs": [],
   "source": [
    "import numpy as np"
   ]
  },
  {
   "cell_type": "code",
   "execution_count": 27,
   "metadata": {},
   "outputs": [
    {
     "name": "stderr",
     "output_type": "stream",
     "text": [
      "/Users/rayendhahri/opt/anaconda3/envs/machine/lib/python3.8/site-packages/sklearn/manifold/_t_sne.py:810: FutureWarning: The default learning rate in TSNE will change from 200.0 to 'auto' in 1.2.\n",
      "  warnings.warn(\n",
      "/Users/rayendhahri/opt/anaconda3/envs/machine/lib/python3.8/site-packages/sklearn/manifold/_t_sne.py:996: FutureWarning: The PCA initialization in TSNE will change to have the standard deviation of PC1 equal to 1e-4 in 1.2. This will ensure better convergence.\n",
      "  warnings.warn(\n"
     ]
    }
   ],
   "source": [
    "tsne = model_tsne.fit_transform(np.array(df[\"Embeddings\"].tolist()))"
   ]
  },
  {
   "cell_type": "code",
   "execution_count": 28,
   "metadata": {},
   "outputs": [],
   "source": [
    "df['tsne_10_x'] = tsne[:,0]\n",
    "df['tsne_10_y'] = tsne[:,1]"
   ]
  },
  {
   "cell_type": "code",
   "execution_count": 29,
   "metadata": {},
   "outputs": [],
   "source": [
    "df.to_pickle('../data_test/plot_summaries_embeddings_tsne.pkl')"
   ]
  },
  {
   "cell_type": "code",
   "execution_count": 30,
   "metadata": {},
   "outputs": [
    {
     "data": {
      "text/plain": [
       "<matplotlib.collections.PathCollection at 0x7fb691090e20>"
      ]
     },
     "execution_count": 30,
     "metadata": {},
     "output_type": "execute_result"
    },
    {
     "data": {
      "image/png": "[encoded data removed]",
      "text/plain": [
       "<Figure size 640x480 with 1 Axes>"
      ]
     },
     "metadata": {},
     "output_type": "display_data"
    }
   ],
   "source": [
    "plt.scatter(df['tsne_10_x'], df['tsne_10_y'], alpha=.5)"
   ]
  },
  {
   "cell_type": "markdown",
   "metadata": {},
   "source": [
    "TSNE 30"
   ]
  },
  {
   "cell_type": "code",
   "execution_count": 31,
   "metadata": {},
   "outputs": [],
   "source": [
    "model_tsne30 = TSNE(perplexity=30, n_components=2, init='pca', n_iter=2500, random_state=random_state)"
   ]
  },
  {
   "cell_type": "code",
   "execution_count": 32,
   "metadata": {},
   "outputs": [
    {
     "name": "stderr",
     "output_type": "stream",
     "text": [
      "/Users/rayendhahri/opt/anaconda3/envs/machine/lib/python3.8/site-packages/sklearn/manifold/_t_sne.py:810: FutureWarning: The default learning rate in TSNE will change from 200.0 to 'auto' in 1.2.\n",
      "  warnings.warn(\n",
      "/Users/rayendhahri/opt/anaconda3/envs/machine/lib/python3.8/site-packages/sklearn/manifold/_t_sne.py:996: FutureWarning: The PCA initialization in TSNE will change to have the standard deviation of PC1 equal to 1e-4 in 1.2. This will ensure better convergence.\n",
      "  warnings.warn(\n"
     ]
    }
   ],
   "source": [
    "tsne = model_tsne30.fit_transform(np.array(df[\"Embeddings\"].tolist()))"
   ]
  },
  {
   "cell_type": "code",
   "execution_count": 33,
   "metadata": {},
   "outputs": [],
   "source": [
    "df['tsne_30_x'] = tsne[:,0]\n",
    "df['tsne_30_y'] = tsne[:,1]"
   ]
  },
  {
   "cell_type": "code",
   "execution_count": 34,
   "metadata": {},
   "outputs": [],
   "source": [
    "df.to_pickle('../data_test/plot_summaries_embeddings_tsne_10_30.pkl')"
   ]
  },
  {
   "cell_type": "code",
   "execution_count": 35,
   "metadata": {},
   "outputs": [
    {
     "data": {
      "text/plain": [
       "<matplotlib.collections.PathCollection at 0x7fb6f44fe7f0>"
      ]
     },
     "execution_count": 35,
     "metadata": {},
     "output_type": "execute_result"
    },
    {
     "data": {
      "image/png": "[encoded data removed]",
      "text/plain": [
       "<Figure size 640x480 with 1 Axes>"
      ]
     },
     "metadata": {},
     "output_type": "display_data"
    }
   ],
   "source": [
    "plt.scatter(df['tsne_30_x'], df['tsne_30_y'], alpha=.5)"
   ]
  },
  {
   "cell_type": "markdown",
   "metadata": {},
   "source": [
    "Working on one instance/ movie"
   ]
  },
  {
   "cell_type": "code",
   "execution_count": 46,
   "metadata": {},
   "outputs": [],
   "source": [
    "movie_sample = df.sample(1)"
   ]
  },
  {
   "cell_type": "code",
   "execution_count": 47,
   "metadata": {},
   "outputs": [],
   "source": [
    "exploded = movie_sample['Summary'].values[0].split('.')"
   ]
  },
  {
   "cell_type": "code",
   "execution_count": 48,
   "metadata": {},
   "outputs": [
    {
     "data": {
      "text/plain": [
       "['The film opens with a hillbilly version of Little Red Riding Hood , telling the audience that she is taking \"nourishment\"  to her grandma, who lives on a country farm',\n",
       " ' At the farmhouse, a wolf  reveals himself to the audience, but refuses to eat Red as he is supposed to, as he is in love with Red and wishes to kiss her',\n",
       " \" After a comical chase around the farmhouse, the wolf catches Red, and both prepare to kiss each other, when a telegram arrives for the wolf from his city cousin , inviting him to the city to meet the city's equivalent of Red \",\n",
       " ' Enamoured by her photograph, the country wolf departs immediately for the city',\n",
       " \" The city wolf, a suave and sophisticated gentleman, takes his country cousin to his club, where the city's Red performs her dance routine \",\n",
       " ' The country wolf whistles and leers throughout, becoming completely aroused by Red',\n",
       " ' Before he can rush onto the stage to join her, however, his city cousin stops him , and takes him back to his home in the country, feeling that city life is too much for his country cousin',\n",
       " ' On arrival back at the farmhouse, the two wolves find the Country Red waiting for them at the doorstep',\n",
       " ' On seeing her, the city wolf becomes wildly attracted to her, but is stopped by his country cousin ',\n",
       " \" Seeing an opportunity to see the city's Red again, the country wolf promptly decides to take his city cousin back home, and drives off back to the city\",\n",
       " '']"
      ]
     },
     "execution_count": 48,
     "metadata": {},
     "output_type": "execute_result"
    }
   ],
   "source": [
    "exploded"
   ]
  },
  {
   "cell_type": "code",
   "execution_count": 49,
   "metadata": {},
   "outputs": [
    {
     "name": "stdout",
     "output_type": "stream",
     "text": [
      "huggingface/tokenizers: The current process just got forked, after parallelism has already been used. Disabling parallelism to avoid deadlocks...\n",
      "To disable this warning, you can either:\n",
      "\t- Avoid using `tokenizers` before the fork if possible\n",
      "\t- Explicitly set the environment variable TOKENIZERS_PARALLELISM=(true | false)\n",
      "Requirement already satisfied: sentence_transformers in /Users/rayendhahri/opt/anaconda3/envs/machine/lib/python3.8/site-packages (2.2.2)\n",
      "Requirement already satisfied: torchvision in /Users/rayendhahri/opt/anaconda3/envs/machine/lib/python3.8/site-packages (from sentence_transformers) (0.14.0)\n",
      "Requirement already satisfied: sentencepiece in /Users/rayendhahri/opt/anaconda3/envs/machine/lib/python3.8/site-packages (from sentence_transformers) (0.1.97)\n",
      "Requirement already satisfied: torch>=1.6.0 in /Users/rayendhahri/opt/anaconda3/envs/machine/lib/python3.8/site-packages (from sentence_transformers) (1.13.0)\n",
      "Requirement already satisfied: scipy in /Users/rayendhahri/opt/anaconda3/envs/machine/lib/python3.8/site-packages (from sentence_transformers) (1.9.1)\n",
      "Requirement already satisfied: huggingface-hub>=0.4.0 in /Users/rayendhahri/opt/anaconda3/envs/machine/lib/python3.8/site-packages (from sentence_transformers) (0.10.1)\n",
      "Requirement already satisfied: numpy in /Users/rayendhahri/opt/anaconda3/envs/machine/lib/python3.8/site-packages (from sentence_transformers) (1.23.3)\n",
      "Requirement already satisfied: tqdm in /Users/rayendhahri/opt/anaconda3/envs/machine/lib/python3.8/site-packages (from sentence_transformers) (4.64.1)\n",
      "Requirement already satisfied: scikit-learn in /Users/rayendhahri/opt/anaconda3/envs/machine/lib/python3.8/site-packages (from sentence_transformers) (1.1.2)\n",
      "Requirement already satisfied: transformers<5.0.0,>=4.6.0 in /Users/rayendhahri/opt/anaconda3/envs/machine/lib/python3.8/site-packages (from sentence_transformers) (4.24.0)\n",
      "Requirement already satisfied: nltk in /Users/rayendhahri/opt/anaconda3/envs/machine/lib/python3.8/site-packages (from sentence_transformers) (3.7)\n",
      "Requirement already satisfied: pyyaml>=5.1 in /Users/rayendhahri/opt/anaconda3/envs/machine/lib/python3.8/site-packages (from huggingface-hub>=0.4.0->sentence_transformers) (6.0)\n",
      "Requirement already satisfied: typing-extensions>=3.7.4.3 in /Users/rayendhahri/opt/anaconda3/envs/machine/lib/python3.8/site-packages (from huggingface-hub>=0.4.0->sentence_transformers) (4.3.0)\n",
      "Requirement already satisfied: filelock in /Users/rayendhahri/opt/anaconda3/envs/machine/lib/python3.8/site-packages (from huggingface-hub>=0.4.0->sentence_transformers) (3.8.0)\n",
      "Requirement already satisfied: packaging>=20.9 in /Users/rayendhahri/opt/anaconda3/envs/machine/lib/python3.8/site-packages (from huggingface-hub>=0.4.0->sentence_transformers) (21.3)\n",
      "Requirement already satisfied: requests in /Users/rayendhahri/opt/anaconda3/envs/machine/lib/python3.8/site-packages (from huggingface-hub>=0.4.0->sentence_transformers) (2.28.1)\n",
      "Requirement already satisfied: regex!=2019.12.17 in /Users/rayendhahri/opt/anaconda3/envs/machine/lib/python3.8/site-packages (from transformers<5.0.0,>=4.6.0->sentence_transformers) (2022.10.31)\n",
      "Requirement already satisfied: tokenizers!=0.11.3,<0.14,>=0.11.1 in /Users/rayendhahri/opt/anaconda3/envs/machine/lib/python3.8/site-packages (from transformers<5.0.0,>=4.6.0->sentence_transformers) (0.13.2)\n",
      "Requirement already satisfied: click in /Users/rayendhahri/opt/anaconda3/envs/machine/lib/python3.8/site-packages (from nltk->sentence_transformers) (8.1.3)\n",
      "Requirement already satisfied: joblib in /Users/rayendhahri/opt/anaconda3/envs/machine/lib/python3.8/site-packages (from nltk->sentence_transformers) (1.2.0)\n",
      "Requirement already satisfied: threadpoolctl>=2.0.0 in /Users/rayendhahri/opt/anaconda3/envs/machine/lib/python3.8/site-packages (from scikit-learn->sentence_transformers) (3.1.0)\n",
      "Requirement already satisfied: pillow!=8.3.*,>=5.3.0 in /Users/rayendhahri/opt/anaconda3/envs/machine/lib/python3.8/site-packages (from torchvision->sentence_transformers) (9.2.0)\n",
      "Requirement already satisfied: pyparsing!=3.0.5,>=2.0.2 in /Users/rayendhahri/opt/anaconda3/envs/machine/lib/python3.8/site-packages (from packaging>=20.9->huggingface-hub>=0.4.0->sentence_transformers) (3.0.9)\n",
      "Requirement already satisfied: certifi>=2017.4.17 in /Users/rayendhahri/opt/anaconda3/envs/machine/lib/python3.8/site-packages (from requests->huggingface-hub>=0.4.0->sentence_transformers) (2022.6.15)\n",
      "Requirement already satisfied: idna<4,>=2.5 in /Users/rayendhahri/opt/anaconda3/envs/machine/lib/python3.8/site-packages (from requests->huggingface-hub>=0.4.0->sentence_transformers) (3.4)\n",
      "Requirement already satisfied: charset-normalizer<3,>=2 in /Users/rayendhahri/opt/anaconda3/envs/machine/lib/python3.8/site-packages (from requests->huggingface-hub>=0.4.0->sentence_transformers) (2.1.1)\n",
      "Requirement already satisfied: urllib3<1.27,>=1.21.1 in /Users/rayendhahri/opt/anaconda3/envs/machine/lib/python3.8/site-packages (from requests->huggingface-hub>=0.4.0->sentence_transformers) (1.26.12)\n"
     ]
    }
   ],
   "source": [
    "!pip install sentence_transformers "
   ]
  },
  {
   "cell_type": "code",
   "execution_count": 50,
   "metadata": {},
   "outputs": [
    {
     "data": {
      "application/vnd.jupyter.widget-view+json": {
       "model_id": "dda3b175159a4670ba25c34d0aad66ca",
       "version_major": 2,
       "version_minor": 0
      },
      "text/plain": [
       "Downloading:   0%|          | 0.00/391 [00:00<?, ?B/s]"
      ]
     },
     "metadata": {},
     "output_type": "display_data"
    },
    {
     "data": {
      "application/vnd.jupyter.widget-view+json": {
       "model_id": "ff47f2542d044ad0b5411b2e8a58b7ec",
       "version_major": 2,
       "version_minor": 0
      },
      "text/plain": [
       "Downloading:   0%|          | 0.00/11.3k [00:00<?, ?B/s]"
      ]
     },
     "metadata": {},
     "output_type": "display_data"
    },
    {
     "data": {
      "application/vnd.jupyter.widget-view+json": {
       "model_id": "892950852feb401b9bb3614c771bee79",
       "version_major": 2,
       "version_minor": 0
      },
      "text/plain": [
       "Downloading:   0%|          | 0.00/1.00k [00:00<?, ?B/s]"
      ]
     },
     "metadata": {},
     "output_type": "display_data"
    },
    {
     "data": {
      "application/vnd.jupyter.widget-view+json": {
       "model_id": "85f1de320231470bb4e81f434b80a9d7",
       "version_major": 2,
       "version_minor": 0
      },
      "text/plain": [
       "Downloading:   0%|          | 0.00/440M [00:00<?, ?B/s]"
      ]
     },
     "metadata": {},
     "output_type": "display_data"
    },
    {
     "data": {
      "application/vnd.jupyter.widget-view+json": {
       "model_id": "0988b82878504564a78ea32a2252b579",
       "version_major": 2,
       "version_minor": 0
      },
      "text/plain": [
       "Downloading:   0%|          | 0.00/48.0 [00:00<?, ?B/s]"
      ]
     },
     "metadata": {},
     "output_type": "display_data"
    },
    {
     "data": {
      "application/vnd.jupyter.widget-view+json": {
       "model_id": "61b1486561e4461199a315358c1a8215",
       "version_major": 2,
       "version_minor": 0
      },
      "text/plain": [
       "Downloading:   0%|          | 0.00/232k [00:00<?, ?B/s]"
      ]
     },
     "metadata": {},
     "output_type": "display_data"
    },
    {
     "name": "stderr",
     "output_type": "stream",
     "text": [
      "No sentence-transformers model found with name /Users/rayendhahri/.cache/torch/sentence_transformers/nlpaueb_bert-base-uncased-echr. Creating a new one with MEAN pooling.\n",
      "Some weights of the model checkpoint at /Users/rayendhahri/.cache/torch/sentence_transformers/nlpaueb_bert-base-uncased-echr were not used when initializing BertModel: ['cls.predictions.transform.LayerNorm.bias', 'cls.predictions.transform.dense.weight', 'cls.seq_relationship.weight', 'cls.seq_relationship.bias', 'cls.predictions.transform.dense.bias', 'cls.predictions.bias', 'cls.predictions.decoder.bias', 'cls.predictions.transform.LayerNorm.weight', 'cls.predictions.decoder.weight']\n",
      "- This IS expected if you are initializing BertModel from the checkpoint of a model trained on another task or with another architecture (e.g. initializing a BertForSequenceClassification model from a BertForPreTraining model).\n",
      "- This IS NOT expected if you are initializing BertModel from the checkpoint of a model that you expect to be exactly identical (initializing a BertForSequenceClassification model from a BertForSequenceClassification model).\n"
     ]
    }
   ],
   "source": [
    "from sentence_transformers import SentenceTransformer, util\n",
    "model = SentenceTransformer(\"nlpaueb/bert-base-uncased-echr\")"
   ]
  },
  {
   "cell_type": "code",
   "execution_count": 53,
   "metadata": {},
   "outputs": [],
   "source": [
    "def gen_match_matrix(model, sents, min_match_score=0):\n",
    "    sents1 = [x for x in sents]\n",
    "    sents1_embeddings = model.encode(sents1)\n",
    "    sim_matrix = cosine_similarity(sents1_embeddings, sents1_embeddings)\n",
    "    super_threshold_indices = sim_matrix < min_match_score\n",
    "    sim_matrix[super_threshold_indices] = 0\n",
    "    #print(sim_matrix)\n",
    "    return sim_matrix"
   ]
  },
  {
   "cell_type": "code",
   "execution_count": 54,
   "metadata": {},
   "outputs": [],
   "source": [
    "def filter_ranked_list(ranked_sents, model, min_match=0.8, N=3):\n",
    "    ranked_sents = [x[0] for x in ranked_sents]\n",
    "    filtered_sents = []\n",
    "    for i, s in enumerate(ranked_sents):\n",
    "        if len(filtered_sents) >= N or len(filtered_sents) >= len(ranked_sents):\n",
    "            break\n",
    "        if len(filtered_sents) == 0:\n",
    "            filtered_sents.append(s)\n",
    "        else:\n",
    "            matching_scores = gen_match_matrix(model, [s] + filtered_sents)\n",
    "            max_sim = np.max(matching_scores[0][1:])\n",
    "            # print(matching_scores)\n",
    "            if max_sim < min_match:\n",
    "                filtered_sents.append(s)\n",
    "        \n",
    "        # print(min_match)\n",
    "    \n",
    "    return filtered_sents"
   ]
  },
  {
   "cell_type": "code",
   "execution_count": 55,
   "metadata": {},
   "outputs": [],
   "source": [
    "def apply_page_rank(sentences, p=0.85, min_match_score=0.5, min_len=5, max_len=35):\n",
    "    cand_sents = [x for x in sentences if len(x.split()) < max_len and len(x.split()) > min_len]\n",
    "    if len(cand_sents) == 0:\n",
    "        #print('empty')\n",
    "        return []\n",
    "    # print(cands)\n",
    "    # print(cands_qualities)\n",
    "    cands_matching_mat = gen_match_matrix(model, cand_sents, min_match_score=min_match_score)\n",
    "    pr = pagerank(cands_matching_mat, p=p)  # it looks like modifying the initial probability doesn't help\n",
    "    # pr=pagerank(cands_matching_mat, p=p)\n",
    "    ranked_candidates = list(zip(cand_sents, pr))\n",
    "    return sorted(ranked_candidates, key=lambda x: -x[1])"
   ]
  },
  {
   "cell_type": "code",
   "execution_count": 57,
   "metadata": {},
   "outputs": [
    {
     "name": "stderr",
     "output_type": "stream",
     "text": [
      "/Users/rayendhahri/opt/anaconda3/envs/machine/lib/python3.8/site-packages/scipy/sparse/linalg/_dsolve/linsolve.py:168: SparseEfficiencyWarning: spsolve requires A be CSC or CSR matrix format\n",
      "  warn('spsolve requires A be CSC or CSR matrix format',\n"
     ]
    }
   ],
   "source": [
    "ranked_sents_temp = apply_page_rank(exploded, p=0.2, min_match_score=0.5)\n",
    "ranked_kps_temp = filter_ranked_list(ranked_sents_temp, model, min_match=0.6, N=2) # decreased the min math to ensure a higher contextuel coverage"
   ]
  },
  {
   "cell_type": "code",
   "execution_count": 58,
   "metadata": {},
   "outputs": [
    {
     "data": {
      "text/plain": [
       "[\" Seeing an opportunity to see the city's Red again, the country wolf promptly decides to take his city cousin back home, and drives off back to the city\",\n",
       " ' The country wolf whistles and leers throughout, becoming completely aroused by Red']"
      ]
     },
     "execution_count": 58,
     "metadata": {},
     "output_type": "execute_result"
    }
   ],
   "source": [
    "ranked_kps_temp"
   ]
  }
 ],
 "metadata": {
  "kernelspec": {
   "display_name": "Python 3.8.13 ('machine')",
   "language": "python",
   "name": "python3"
  },
  "language_info": {
   "codemirror_mode": {
    "name": "ipython",
    "version": 3
   },
   "file_extension": ".py",
   "mimetype": "text/x-python",
   "name": "python",
   "nbconvert_exporter": "python",
   "pygments_lexer": "ipython3",
   "version": "3.8.13"
  },
  "orig_nbformat": 4,
  "vscode": {
   "interpreter": {
    "hash": "5945d009ee0301743890d7430330cf9f851036b09bb94721e9fa183962f8f342"
   }
  }
 },
 "nbformat": 4,
 "nbformat_minor": 2
}
