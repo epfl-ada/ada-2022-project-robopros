{
 "cells": [
  {
   "cell_type": "markdown",
   "metadata": {},
   "source": [
    "# ADA: Milestone 3 notebook\n",
    "---"
   ]
  },
  {
   "cell_type": "markdown",
   "metadata": {},
   "source": [
    "## Globywood: the story of movie industries across time.\n",
    "\n",
    "Cinema made its debut in the late 19th century [1] and has become a multibillion-dollar industry, distributed over many different countries, and therefore made subject to distinct cultures and trends.\n",
    "Using the CMU Movie Summary Corpus, a collection of 42.306 movie plot summaries extracted from Wikipedia, aligned with movie and character metadata, we take a trip through time to take a look at these trends and how they have (or have not) differed across the world.\n",
    "We will analyze movies from some of the largest film industries - namely the United States, India, United Kingdom, Japan, and France [2] - from the 1950s to the 2010s.\n",
    "More specifically, we will look from two different perspectives, the movies themselves and the actors that portray them.\n",
    "This will give us an insight into whether the industry is converging due to globalization, or if each industry can keep its identity."
   ]
  },
  {
   "cell_type": "markdown",
   "metadata": {},
   "source": [
    "### Libraries used for this project:"
   ]
  },
  {
   "cell_type": "code",
   "execution_count": 1,
   "metadata": {},
   "outputs": [],
   "source": [
    "# Local python scripts\n",
    "import sys\n",
    "sys.path.append('../src')\n",
    "import load\n",
    "import clean\n",
    "import aggregate\n",
    "import plot\n",
    "import features\n",
    "\n",
    "# Utilities\n",
    "import numpy as np\n",
    "import pandas as pd\n",
    "import seaborn as sns\n",
    "import matplotlib.pyplot as plt\n",
    "\n",
    "# TODO: Add libraries here (ONLY if they are used) and put a header (such as NLP) describing what you use it for"
   ]
  },
  {
   "cell_type": "markdown",
   "metadata": {},
   "source": [
    "## Loading the data"
   ]
  },
  {
   "cell_type": "markdown",
   "metadata": {},
   "source": [
    "Our analysis will look at differences between film industries from two perspectives, namely the movie themselves and the actors that play in them.\n",
    "Regarding movies, we will use the `movie.metadata.tsv` dataset for metadata, and `plot_summaries.txt` for the summaries.\n",
    "Regarding actors we will use the `character.metadata.tsv` dataset.\n",
    "\n",
    "Our loading functions allows us to do just that:"
   ]
  },
  {
   "cell_type": "code",
   "execution_count": 3,
   "metadata": {},
   "outputs": [],
   "source": [
    "movies_raw = load.movie_metadata()\n",
    "summaries_raw = load.plot_summaries()\n",
    "characters_raw = load.character_metadata()"
   ]
  },
  {
   "cell_type": "markdown",
   "metadata": {},
   "source": [
    "**Note:** the original movies metadata file uses a dictionary in format `{freebase_id:value}` for the columns `Movie_Countries`, `Movie_Genres`, and `Movie_Languages`. Our loading function parses these values and creates a unique row for each of them, such that each column holds a single value:"
   ]
  },
  {
   "cell_type": "code",
   "execution_count": 4,
   "metadata": {},
   "outputs": [
    {
     "data": {
      "text/html": [
       "<div>\n",
       "<style scoped>\n",
       "    .dataframe tbody tr th:only-of-type {\n",
       "        vertical-align: middle;\n",
       "    }\n",
       "\n",
       "    .dataframe tbody tr th {\n",
       "        vertical-align: top;\n",
       "    }\n",
       "\n",
       "    .dataframe thead th {\n",
       "        text-align: right;\n",
       "    }\n",
       "</style>\n",
       "<table border=\"1\" class=\"dataframe\">\n",
       "  <thead>\n",
       "    <tr style=\"text-align: right;\">\n",
       "      <th></th>\n",
       "      <th>Movie_Name</th>\n",
       "      <th>Movie_Countries</th>\n",
       "      <th>Movie_Languages</th>\n",
       "      <th>Movie_Genres</th>\n",
       "    </tr>\n",
       "  </thead>\n",
       "  <tbody>\n",
       "    <tr>\n",
       "      <th>0</th>\n",
       "      <td>Ghosts of Mars</td>\n",
       "      <td>United States of America</td>\n",
       "      <td>English Language</td>\n",
       "      <td>Thriller</td>\n",
       "    </tr>\n",
       "    <tr>\n",
       "      <th>0</th>\n",
       "      <td>Ghosts of Mars</td>\n",
       "      <td>United States of America</td>\n",
       "      <td>English Language</td>\n",
       "      <td>Science Fiction</td>\n",
       "    </tr>\n",
       "    <tr>\n",
       "      <th>0</th>\n",
       "      <td>Ghosts of Mars</td>\n",
       "      <td>United States of America</td>\n",
       "      <td>English Language</td>\n",
       "      <td>Horror</td>\n",
       "    </tr>\n",
       "  </tbody>\n",
       "</table>\n",
       "</div>"
      ],
      "text/plain": [
       "       Movie_Name           Movie_Countries   Movie_Languages     Movie_Genres\n",
       "0  Ghosts of Mars  United States of America  English Language         Thriller\n",
       "0  Ghosts of Mars  United States of America  English Language  Science Fiction\n",
       "0  Ghosts of Mars  United States of America  English Language           Horror"
      ]
     },
     "execution_count": 4,
     "metadata": {},
     "output_type": "execute_result"
    }
   ],
   "source": [
    "movies_raw[['Movie_Name', 'Movie_Countries', 'Movie_Languages', 'Movie_Genres']].head(3)"
   ]
  },
  {
   "cell_type": "markdown",
   "metadata": {},
   "source": [
    "We now have 3 dataframes to work with for our analysis, the movie metadata, movie summaries, and characters metadata."
   ]
  },
  {
   "cell_type": "markdown",
   "metadata": {},
   "source": [
    "## First look at the data"
   ]
  },
  {
   "cell_type": "markdown",
   "metadata": {},
   "source": [
    "Let's take a look at the number of datapoints we are working with:"
   ]
  },
  {
   "cell_type": "code",
   "execution_count": 6,
   "metadata": {},
   "outputs": [
    {
     "name": "stdout",
     "output_type": "stream",
     "text": [
      "WARNING: DataFrame contains countries that are undefined\n",
      "WARNING: DataFrame contains actor IDs that are undefined\n",
      "- Number of countries:  147\n",
      "- Number of movies:     81,741\n",
      "- Number of summaries:  42,303\n",
      "- Number of actors:     135,760\n"
     ]
    }
   ],
   "source": [
    "ncountries_raw = aggregate.ncountries(movies_raw)\n",
    "nmovies_raw = aggregate.nmovies(movies_raw)\n",
    "nsummaries_raw = aggregate.nmovies(summaries_raw)\n",
    "nactors_raw = aggregate.nactors(characters_raw)\n",
    "print(f'- Number of countries:  {ncountries_raw:,}')\n",
    "print(f'- Number of movies:     {nmovies_raw:,}')\n",
    "print(f'- Number of summaries:  {nsummaries_raw:,}')\n",
    "print(f'- Number of actors:     {nactors_raw:,}')"
   ]
  },
  {
   "cell_type": "markdown",
   "metadata": {},
   "source": [
    "We already see that some entries have to be dropped from analysis due to missing countries or actors.\n",
    "More specifically, the following cleaning has to be done before further analysis:\n",
    "1. Our movie metadata contains movies from 147 countries (and some undefined), we are only interested in a few of them (for this analysis to be feasible).\n",
    "2. Some characters have undefined actors, and should be dropped from analysis.\n",
    "3. The character metadata and summaries data should be aligned with the country and date columns from the corresponding movie entries.\n",
    "4. We have to choose time periods that has enough samples of each of the chosen countries."
   ]
  },
  {
   "cell_type": "markdown",
   "metadata": {},
   "source": [
    "### Pre-processing I: countries of interest"
   ]
  },
  {
   "cell_type": "markdown",
   "metadata": {},
   "source": [
    "To make comparisons between movies of different countries we assume that each movie comes from  a single country.\n",
    "This is not always the case, we therefore drop all movies that come from multiple countries."
   ]
  },
  {
   "cell_type": "code",
   "execution_count": 7,
   "metadata": {},
   "outputs": [
    {
     "name": "stdout",
     "output_type": "stream",
     "text": [
      "Dropped 17,372 movies coming from multiple countries, 64,369 movies remaining.\n"
     ]
    }
   ],
   "source": [
    "movies_unique = clean.filter_unique_countries(movies_raw)\n",
    "nmovies_unique = aggregate.nmovies(movies_unique)\n",
    "print(f'Dropped {nmovies_raw - nmovies_unique:,} movies coming from multiple countries, {nmovies_unique:,} movies remaining.')"
   ]
  },
  {
   "cell_type": "markdown",
   "metadata": {},
   "source": [
    "We are only interested in the largest movie industries of the world according to [1].\n",
    "To have meaningful comparisons we want to use enough movie samples from each of the country (at least 1000)."
   ]
  },
  {
   "cell_type": "code",
   "execution_count": 8,
   "metadata": {},
   "outputs": [
    {
     "data": {
      "text/html": [
       "<div>\n",
       "<style scoped>\n",
       "    .dataframe tbody tr th:only-of-type {\n",
       "        vertical-align: middle;\n",
       "    }\n",
       "\n",
       "    .dataframe tbody tr th {\n",
       "        vertical-align: top;\n",
       "    }\n",
       "\n",
       "    .dataframe thead th {\n",
       "        text-align: right;\n",
       "    }\n",
       "</style>\n",
       "<table border=\"1\" class=\"dataframe\">\n",
       "  <thead>\n",
       "    <tr style=\"text-align: right;\">\n",
       "      <th></th>\n",
       "      <th>Wikipedia_Movie_ID</th>\n",
       "    </tr>\n",
       "    <tr>\n",
       "      <th>Movie_Countries</th>\n",
       "      <th></th>\n",
       "    </tr>\n",
       "  </thead>\n",
       "  <tbody>\n",
       "    <tr>\n",
       "      <th>United States of America</th>\n",
       "      <td>30300</td>\n",
       "    </tr>\n",
       "    <tr>\n",
       "      <th>India</th>\n",
       "      <td>8240</td>\n",
       "    </tr>\n",
       "    <tr>\n",
       "      <th>United Kingdom</th>\n",
       "      <td>5343</td>\n",
       "    </tr>\n",
       "    <tr>\n",
       "      <th>Japan</th>\n",
       "      <td>2242</td>\n",
       "    </tr>\n",
       "    <tr>\n",
       "      <th>France</th>\n",
       "      <td>1853</td>\n",
       "    </tr>\n",
       "    <tr>\n",
       "      <th>Italy</th>\n",
       "      <td>1730</td>\n",
       "    </tr>\n",
       "    <tr>\n",
       "      <th>Canada</th>\n",
       "      <td>1342</td>\n",
       "    </tr>\n",
       "    <tr>\n",
       "      <th>Argentina</th>\n",
       "      <td>1266</td>\n",
       "    </tr>\n",
       "    <tr>\n",
       "      <th>Hong Kong</th>\n",
       "      <td>850</td>\n",
       "    </tr>\n",
       "    <tr>\n",
       "      <th>South Korea</th>\n",
       "      <td>788</td>\n",
       "    </tr>\n",
       "  </tbody>\n",
       "</table>\n",
       "</div>"
      ],
      "text/plain": [
       "                          Wikipedia_Movie_ID\n",
       "Movie_Countries                             \n",
       "United States of America               30300\n",
       "India                                   8240\n",
       "United Kingdom                          5343\n",
       "Japan                                   2242\n",
       "France                                  1853\n",
       "Italy                                   1730\n",
       "Canada                                  1342\n",
       "Argentina                               1266\n",
       "Hong Kong                                850\n",
       "South Korea                              788"
      ]
     },
     "execution_count": 8,
     "metadata": {},
     "output_type": "execute_result"
    }
   ],
   "source": [
    "aggregate.top_countries_nmovies(movies_unique)"
   ]
  },
  {
   "cell_type": "markdown",
   "metadata": {},
   "source": [
    "As we see above, we don't have enough movies for all large industries such as China and South Korea, this study will therefore only focus on **US, India, UK, Japan, and France**."
   ]
  },
  {
   "cell_type": "code",
   "execution_count": 9,
   "metadata": {},
   "outputs": [
    {
     "name": "stdout",
     "output_type": "stream",
     "text": [
      "Dropped 16,391 movies, 47,978 movies remaining.\n"
     ]
    }
   ],
   "source": [
    "countries_of_interest = ['United States of America', 'India', 'United Kingdom', 'Japan', 'France']\n",
    "movies_filtered = clean.keep_countries(movies_unique, countries_of_interest)\n",
    "nmovies_filtered = aggregate.nmovies(movies_filtered)\n",
    "print(f'Dropped {nmovies_unique - nmovies_filtered:,} movies, {nmovies_filtered:,} movies remaining.')"
   ]
  },
  {
   "cell_type": "markdown",
   "metadata": {},
   "source": [
    "Now we only keep the characters that come from these countries and add the country as a new column."
   ]
  },
  {
   "cell_type": "code",
   "execution_count": 10,
   "metadata": {},
   "outputs": [
    {
     "name": "stdout",
     "output_type": "stream",
     "text": [
      "WARNING: DataFrame contains actor IDs that are undefined\n",
      "Dropped 53864 actors, 81896 actors remaining.\n"
     ]
    }
   ],
   "source": [
    "characters_filtered = clean.align_movie_countries(characters_raw, movies_filtered)\n",
    "nactors_filtered = aggregate.nactors(characters_filtered)\n",
    "print(f'Dropped {nactors_raw - nactors_filtered} actors, {nactors_filtered} actors remaining.')"
   ]
  },
  {
   "cell_type": "markdown",
   "metadata": {},
   "source": [
    "As we can see the country of the movie of each character is now added as an extra column."
   ]
  },
  {
   "cell_type": "code",
   "execution_count": 11,
   "metadata": {},
   "outputs": [
    {
     "data": {
      "text/html": [
       "<div>\n",
       "<style scoped>\n",
       "    .dataframe tbody tr th:only-of-type {\n",
       "        vertical-align: middle;\n",
       "    }\n",
       "\n",
       "    .dataframe tbody tr th {\n",
       "        vertical-align: top;\n",
       "    }\n",
       "\n",
       "    .dataframe thead th {\n",
       "        text-align: right;\n",
       "    }\n",
       "</style>\n",
       "<table border=\"1\" class=\"dataframe\">\n",
       "  <thead>\n",
       "    <tr style=\"text-align: right;\">\n",
       "      <th></th>\n",
       "      <th>Character_Name</th>\n",
       "      <th>Actor_Name</th>\n",
       "      <th>Movie_Countries</th>\n",
       "    </tr>\n",
       "  </thead>\n",
       "  <tbody>\n",
       "    <tr>\n",
       "      <th>0</th>\n",
       "      <td>Akooshay</td>\n",
       "      <td>Wanda De Jesus</td>\n",
       "      <td>United States of America</td>\n",
       "    </tr>\n",
       "    <tr>\n",
       "      <th>1</th>\n",
       "      <td>Lieutenant Melanie Ballard</td>\n",
       "      <td>Natasha Henstridge</td>\n",
       "      <td>United States of America</td>\n",
       "    </tr>\n",
       "    <tr>\n",
       "      <th>2</th>\n",
       "      <td>Desolation Williams</td>\n",
       "      <td>Ice Cube</td>\n",
       "      <td>United States of America</td>\n",
       "    </tr>\n",
       "  </tbody>\n",
       "</table>\n",
       "</div>"
      ],
      "text/plain": [
       "               Character_Name          Actor_Name           Movie_Countries\n",
       "0                    Akooshay      Wanda De Jesus  United States of America\n",
       "1  Lieutenant Melanie Ballard  Natasha Henstridge  United States of America\n",
       "2         Desolation Williams            Ice Cube  United States of America"
      ]
     },
     "execution_count": 11,
     "metadata": {},
     "output_type": "execute_result"
    }
   ],
   "source": [
    "characters_filtered[['Character_Name', 'Actor_Name', 'Movie_Countries']].head(3)"
   ]
  },
  {
   "cell_type": "markdown",
   "metadata": {},
   "source": [
    "We do the same for the plot summaries:"
   ]
  },
  {
   "cell_type": "code",
   "execution_count": 12,
   "metadata": {},
   "outputs": [
    {
     "name": "stdout",
     "output_type": "stream",
     "text": [
      "Dropped 15613 summaries, 26690 summaries remaining.\n"
     ]
    },
    {
     "data": {
      "text/html": [
       "<div>\n",
       "<style scoped>\n",
       "    .dataframe tbody tr th:only-of-type {\n",
       "        vertical-align: middle;\n",
       "    }\n",
       "\n",
       "    .dataframe tbody tr th {\n",
       "        vertical-align: top;\n",
       "    }\n",
       "\n",
       "    .dataframe thead th {\n",
       "        text-align: right;\n",
       "    }\n",
       "</style>\n",
       "<table border=\"1\" class=\"dataframe\">\n",
       "  <thead>\n",
       "    <tr style=\"text-align: right;\">\n",
       "      <th></th>\n",
       "      <th>Wikipedia_Movie_ID</th>\n",
       "      <th>Movie_Countries</th>\n",
       "      <th>Summary</th>\n",
       "    </tr>\n",
       "  </thead>\n",
       "  <tbody>\n",
       "    <tr>\n",
       "      <th>0</th>\n",
       "      <td>975900</td>\n",
       "      <td>United States of America</td>\n",
       "      <td>Set in the second half of the 22nd century, th...</td>\n",
       "    </tr>\n",
       "    <tr>\n",
       "      <th>1</th>\n",
       "      <td>9363483</td>\n",
       "      <td>United Kingdom</td>\n",
       "      <td>A series of murders of rich young women throug...</td>\n",
       "    </tr>\n",
       "    <tr>\n",
       "      <th>2</th>\n",
       "      <td>6631279</td>\n",
       "      <td>United States of America</td>\n",
       "      <td>Adam, a San Francisco-based artist who works a...</td>\n",
       "    </tr>\n",
       "  </tbody>\n",
       "</table>\n",
       "</div>"
      ],
      "text/plain": [
       "   Wikipedia_Movie_ID           Movie_Countries  \\\n",
       "0              975900  United States of America   \n",
       "1             9363483            United Kingdom   \n",
       "2             6631279  United States of America   \n",
       "\n",
       "                                             Summary  \n",
       "0  Set in the second half of the 22nd century, th...  \n",
       "1  A series of murders of rich young women throug...  \n",
       "2  Adam, a San Francisco-based artist who works a...  "
      ]
     },
     "execution_count": 12,
     "metadata": {},
     "output_type": "execute_result"
    }
   ],
   "source": [
    "summaries_filtered = clean.align_movie_countries(summaries_raw, movies_filtered)\n",
    "nsummaries_filtered = aggregate.nmovies(summaries_filtered)\n",
    "print(f'Dropped {nsummaries_raw - nsummaries_filtered} summaries, {nsummaries_filtered} summaries remaining.')\n",
    "summaries_filtered[['Wikipedia_Movie_ID', 'Movie_Countries', 'Summary']].head(3)"
   ]
  },
  {
   "cell_type": "markdown",
   "metadata": {},
   "source": [
    "As seen earlier, some characters have no actor data, and we therefore drop them."
   ]
  },
  {
   "cell_type": "code",
   "execution_count": 13,
   "metadata": {},
   "outputs": [],
   "source": [
    "characters_filtered = clean.drop_undefined_actors(characters_filtered)"
   ]
  },
  {
   "cell_type": "markdown",
   "metadata": {},
   "source": [
    "We completed step 1 to 3 of our cleaning, and see that while keeping 3% of the countries we keep around 60% of our original dataset."
   ]
  },
  {
   "cell_type": "code",
   "execution_count": 14,
   "metadata": {},
   "outputs": [
    {
     "name": "stdout",
     "output_type": "stream",
     "text": [
      "Finished filtering countries of interest:\n",
      "- Number of countries:  5 (3.4%)\n",
      "- Number of movies:     47,978 (58.7%)\n",
      "- Number of summaries:  26,690 (63.1%)\n",
      "- Number of actors:     81,896 (60.3%)\n"
     ]
    }
   ],
   "source": [
    "movies = movies_filtered.reset_index().copy()\n",
    "summaries = summaries_filtered.reset_index().copy()\n",
    "characters = characters_filtered.reset_index().copy()\n",
    "\n",
    "ncountries = aggregate.ncountries(movies)\n",
    "nmovies = aggregate.nmovies(movies)\n",
    "nsummaries = aggregate.nmovies(summaries)\n",
    "nactors = aggregate.nactors(characters)\n",
    "print('Finished filtering countries of interest:')\n",
    "print(f'- Number of countries:  {ncountries:,} ({ncountries / ncountries_raw:.1%})')\n",
    "print(f'- Number of movies:     {nmovies:,} ({nmovies / nmovies_raw:.1%})')\n",
    "print(f'- Number of summaries:  {nsummaries:,} ({nsummaries / nsummaries_raw:.1%})')\n",
    "print(f'- Number of actors:     {nactors:,} ({nactors / nactors_raw:.1%})')"
   ]
  },
  {
   "cell_type": "markdown",
   "metadata": {},
   "source": [
    "### Pre-processing II: grouping by period"
   ]
  },
  {
   "cell_type": "markdown",
   "metadata": {},
   "source": [
    "Our final goal is to pick time periods to group our data together.\n",
    "We start by converting the columns corresponding to dates from string to datetime for easier manipulation and drop unspecified dates."
   ]
  },
  {
   "cell_type": "code",
   "execution_count": 15,
   "metadata": {},
   "outputs": [
    {
     "name": "stdout",
     "output_type": "stream",
     "text": [
      "Dropped 261 actors, 81,635 actors remaining.\n",
      "Dropped 2,477 movies, 45,501 movies remaining.\n"
     ]
    }
   ],
   "source": [
    "characters_parsed = clean.parse_dates(characters, 'Movie_Release_Date')\n",
    "movies_parsed = clean.parse_dates(movies, 'Movie_Release_Date')\n",
    "\n",
    "nactors_parsed = aggregate.nactors(characters_parsed)\n",
    "nmovies_parsed = aggregate.nmovies(movies_parsed)\n",
    "\n",
    "print(f'Dropped {nactors - nactors_parsed:,} actors, {nactors_parsed:,} actors remaining.')\n",
    "print(f'Dropped {nmovies - nmovies_parsed:,} movies, {nmovies_parsed:,} movies remaining.')"
   ]
  },
  {
   "cell_type": "markdown",
   "metadata": {},
   "source": [
    "As a sanity check we make sure that the movie release dates are the same in the movies and characters tables."
   ]
  },
  {
   "cell_type": "code",
   "execution_count": 16,
   "metadata": {},
   "outputs": [
    {
     "name": "stdout",
     "output_type": "stream",
     "text": [
      "There are 0 differences between the movie and character dates.\n"
     ]
    }
   ],
   "source": [
    "ndifferences = clean.date_differences(movies_parsed, characters_parsed)\n",
    "print(f'There are {ndifferences} differences between the movie and character dates.')"
   ]
  },
  {
   "cell_type": "markdown",
   "metadata": {},
   "source": [
    "We need a good representation of movies of each country over time.\n",
    "We visualize the number of movies over time and the fraction from each country to select a representative time interval."
   ]
  },
  {
   "cell_type": "code",
   "execution_count": 17,
   "metadata": {},
   "outputs": [
    {
     "data": {
      "image/png": "[encoded data removed]",
      "text/plain": [
       "<Figure size 1200x400 with 2 Axes>"
      ]
     },
     "metadata": {},
     "output_type": "display_data"
    }
   ],
   "source": [
    "plot.movie_distribution_over_time(movies_parsed)"
   ]
  },
  {
   "cell_type": "markdown",
   "metadata": {},
   "source": [
    "Based on this visualization we select movies from 1950 to 2013 for our analysis, and see that movies from each country are sufficiently represented."
   ]
  },
  {
   "cell_type": "code",
   "execution_count": 18,
   "metadata": {},
   "outputs": [
    {
     "data": {
      "image/png": "[encoded data removed]",
      "text/plain": [
       "<Figure size 1200x400 with 2 Axes>"
      ]
     },
     "metadata": {},
     "output_type": "display_data"
    }
   ],
   "source": [
    "movies = clean.keep_dates(movies_parsed, 1950, 2013)\n",
    "characters = clean.keep_dates(characters_parsed, 1950, 2013)\n",
    "plot.movie_distribution_over_time(movies)"
   ]
  },
  {
   "cell_type": "markdown",
   "metadata": {},
   "source": [
    "Add year and decade columns for convenient grouping."
   ]
  },
  {
   "cell_type": "code",
   "execution_count": 19,
   "metadata": {},
   "outputs": [
    {
     "data": {
      "text/html": [
       "<div>\n",
       "<style scoped>\n",
       "    .dataframe tbody tr th:only-of-type {\n",
       "        vertical-align: middle;\n",
       "    }\n",
       "\n",
       "    .dataframe tbody tr th {\n",
       "        vertical-align: top;\n",
       "    }\n",
       "\n",
       "    .dataframe thead th {\n",
       "        text-align: right;\n",
       "    }\n",
       "</style>\n",
       "<table border=\"1\" class=\"dataframe\">\n",
       "  <thead>\n",
       "    <tr style=\"text-align: right;\">\n",
       "      <th></th>\n",
       "      <th>Movie_Name</th>\n",
       "      <th>year</th>\n",
       "      <th>decade</th>\n",
       "    </tr>\n",
       "  </thead>\n",
       "  <tbody>\n",
       "    <tr>\n",
       "      <th>0</th>\n",
       "      <td>Ghosts of Mars</td>\n",
       "      <td>2001</td>\n",
       "      <td>2000</td>\n",
       "    </tr>\n",
       "    <tr>\n",
       "      <th>1</th>\n",
       "      <td>Ghosts of Mars</td>\n",
       "      <td>2001</td>\n",
       "      <td>2000</td>\n",
       "    </tr>\n",
       "    <tr>\n",
       "      <th>2</th>\n",
       "      <td>Ghosts of Mars</td>\n",
       "      <td>2001</td>\n",
       "      <td>2000</td>\n",
       "    </tr>\n",
       "    <tr>\n",
       "      <th>3</th>\n",
       "      <td>Ghosts of Mars</td>\n",
       "      <td>2001</td>\n",
       "      <td>2000</td>\n",
       "    </tr>\n",
       "    <tr>\n",
       "      <th>4</th>\n",
       "      <td>Ghosts of Mars</td>\n",
       "      <td>2001</td>\n",
       "      <td>2000</td>\n",
       "    </tr>\n",
       "  </tbody>\n",
       "</table>\n",
       "</div>"
      ],
      "text/plain": [
       "       Movie_Name  year  decade\n",
       "0  Ghosts of Mars  2001    2000\n",
       "1  Ghosts of Mars  2001    2000\n",
       "2  Ghosts of Mars  2001    2000\n",
       "3  Ghosts of Mars  2001    2000\n",
       "4  Ghosts of Mars  2001    2000"
      ]
     },
     "execution_count": 19,
     "metadata": {},
     "output_type": "execute_result"
    }
   ],
   "source": [
    "clean.add_year_and_decade(movies)\n",
    "clean.add_year_and_decade(characters)\n",
    "summaries = clean.align_year_and_decade(summaries, characters)\n",
    "movies[['Movie_Name', 'year', 'decade']].head(5)"
   ]
  },
  {
   "cell_type": "markdown",
   "metadata": {},
   "source": [
    "This leaves us with 40% of the original movies and 55% of the original actors."
   ]
  },
  {
   "cell_type": "code",
   "execution_count": 20,
   "metadata": {},
   "outputs": [
    {
     "name": "stdout",
     "output_type": "stream",
     "text": [
      "Finished filtering dates:\n",
      "- Number of countries:  5 (3.4%)\n",
      "- Number of movies:     34,008 (41.6%)\n",
      "- Number of summaries:  20,108 (47.5%)\n",
      "- Number of actors:     74,133 (54.6%)\n"
     ]
    }
   ],
   "source": [
    "ncountries = aggregate.ncountries(movies)\n",
    "nmovies = aggregate.nmovies(movies)\n",
    "nsummaries = aggregate.nmovies(summaries)\n",
    "nactors = aggregate.nactors(characters)\n",
    "print('Finished filtering dates:')\n",
    "print(f'- Number of countries:  {ncountries:,} ({ncountries / ncountries_raw:.1%})')\n",
    "print(f'- Number of movies:     {nmovies:,} ({nmovies / nmovies_raw:.1%})')\n",
    "print(f'- Number of summaries:  {nsummaries:,} ({nsummaries / nsummaries_raw:.1%})')\n",
    "print(f'- Number of actors:     {nactors:,} ({nactors / nactors_raw:.1%})')"
   ]
  },
  {
   "cell_type": "markdown",
   "metadata": {},
   "source": [
    "The data is cleaned, time to get our hands dirty! (pun intended)"
   ]
  },
  {
   "cell_type": "markdown",
   "metadata": {},
   "source": [
    "## References\n",
    "\n",
    "[1] S. Pruitt, “The Lumière Brothers, Pioneers of Cinema,” HISTORY. https://www.history.com/news/the-lumiere-brothers-pioneers-of-cinema (accessed Nov. 17, 2022).\n",
    "\n",
    "[2] “Global Box Office Down 72%, Digital Leads Home Entertainment in 2020,” Boxoffice, Mar. 26, 2021. https://www.boxofficepro.com/global-box-office-down-72-digital-leads-home-entertainment-in-2020/ (accessed Nov. 16, 2022)."
   ]
  }
 ],
 "metadata": {
  "kernelspec": {
   "display_name": "Python 3.9.13 ('ada')",
   "language": "python",
   "name": "python3"
  },
  "language_info": {
   "codemirror_mode": {
    "name": "ipython",
    "version": 3
   },
   "file_extension": ".py",
   "mimetype": "text/x-python",
   "name": "python",
   "nbconvert_exporter": "python",
   "pygments_lexer": "ipython3",
   "version": "3.9.13"
  },
  "orig_nbformat": 4,
  "vscode": {
   "interpreter": {
    "hash": "7144cc56e842941ac6064be0b274221e2d85632a37b7a3dbee8e6f7f8643f919"
   }
  }
 },
 "nbformat": 4,
 "nbformat_minor": 2
}
