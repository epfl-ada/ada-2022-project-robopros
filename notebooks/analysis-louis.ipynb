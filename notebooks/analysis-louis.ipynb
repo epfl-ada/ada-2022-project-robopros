{
 "cells": [
  {
   "cell_type": "markdown",
   "metadata": {},
   "source": [
    "# Initial analysis (Louis)"
   ]
  },
  {
   "cell_type": "code",
   "execution_count": 1,
   "metadata": {},
   "outputs": [],
   "source": [
    "# Add local python scripts to path\n",
    "import sys\n",
    "sys.path.append('../src')\n",
    "import load\n",
    "import clean\n",
    "import aggregate\n",
    "import plot"
   ]
  },
  {
   "cell_type": "code",
   "execution_count": 2,
   "metadata": {},
   "outputs": [],
   "source": [
    "# Imports\n",
    "import numpy as np\n",
    "import pandas as pd\n",
    "import seaborn as sns"
   ]
  },
  {
   "cell_type": "markdown",
   "metadata": {},
   "source": [
    "## 1. Load the data in dataframes"
   ]
  },
  {
   "cell_type": "code",
   "execution_count": 3,
   "metadata": {},
   "outputs": [],
   "source": [
    "characters_raw = load.character_metadata()\n",
    "movies_raw = load.movie_metadata()"
   ]
  },
  {
   "cell_type": "code",
   "execution_count": 4,
   "metadata": {},
   "outputs": [
    {
     "name": "stdout",
     "output_type": "stream",
     "text": [
      "Finished loading:\n",
      "- Number of countries:  147\n",
      "- Number of movies:     81741\n",
      "- Number of characters: 183435\n",
      "- Number of actors:     135760\n"
     ]
    }
   ],
   "source": [
    "ncountries_raw = aggregate.ncountries(movies_raw)\n",
    "nmovies_raw = aggregate.nmovies(movies_raw)\n",
    "ncharacters_raw = aggregate.ncharacters(characters_raw)\n",
    "nactors_raw = aggregate.nactors(characters_raw)\n",
    "print('Finished loading:')\n",
    "print(f'- Number of countries:  {ncountries_raw}')\n",
    "print(f'- Number of movies:     {nmovies_raw}')\n",
    "print(f'- Number of characters: {ncharacters_raw}')\n",
    "print(f'- Number of actors:     {nactors_raw}')"
   ]
  },
  {
   "cell_type": "markdown",
   "metadata": {},
   "source": [
    "## 2. Clean up the data"
   ]
  },
  {
   "cell_type": "markdown",
   "metadata": {},
   "source": [
    "### 2.1 Filtering countries of interest"
   ]
  },
  {
   "cell_type": "markdown",
   "metadata": {},
   "source": [
    "To make comparisons between movies of different countries we assume that each movie comes from  a single country.\n",
    "This is not always the case, we therefore drop all movies that come from multiple countries."
   ]
  },
  {
   "cell_type": "code",
   "execution_count": 5,
   "metadata": {},
   "outputs": [
    {
     "name": "stdout",
     "output_type": "stream",
     "text": [
      "Dropped 17372 movies coming from multiple countries, 64369 movies remaining.\n"
     ]
    }
   ],
   "source": [
    "movies_unique = clean.filter_unique_countries(movies_raw)\n",
    "nmovies_unique = aggregate.nmovies(movies_unique)\n",
    "print(f'Dropped {nmovies_raw - nmovies_unique} movies coming from multiple countries, {nmovies_unique} movies remaining.')"
   ]
  },
  {
   "cell_type": "markdown",
   "metadata": {},
   "source": [
    "We are only interested in the largest movie industries of the world (China, India, US, UK, Japan, France, South Korea). [SOURCE NEEDED]\n",
    "To have meaningful comparisons we want to use enough movies from each of the country, let's say more than a 1000."
   ]
  },
  {
   "cell_type": "code",
   "execution_count": 6,
   "metadata": {},
   "outputs": [
    {
     "data": {
      "text/html": [
       "<div>\n",
       "<style scoped>\n",
       "    .dataframe tbody tr th:only-of-type {\n",
       "        vertical-align: middle;\n",
       "    }\n",
       "\n",
       "    .dataframe tbody tr th {\n",
       "        vertical-align: top;\n",
       "    }\n",
       "\n",
       "    .dataframe thead th {\n",
       "        text-align: right;\n",
       "    }\n",
       "</style>\n",
       "<table border=\"1\" class=\"dataframe\">\n",
       "  <thead>\n",
       "    <tr style=\"text-align: right;\">\n",
       "      <th></th>\n",
       "      <th>Wikipedia_Movie_ID</th>\n",
       "    </tr>\n",
       "    <tr>\n",
       "      <th>Movie_Countries</th>\n",
       "      <th></th>\n",
       "    </tr>\n",
       "  </thead>\n",
       "  <tbody>\n",
       "    <tr>\n",
       "      <th>United States of America</th>\n",
       "      <td>30300</td>\n",
       "    </tr>\n",
       "    <tr>\n",
       "      <th>India</th>\n",
       "      <td>8240</td>\n",
       "    </tr>\n",
       "    <tr>\n",
       "      <th>United Kingdom</th>\n",
       "      <td>5343</td>\n",
       "    </tr>\n",
       "    <tr>\n",
       "      <th>Japan</th>\n",
       "      <td>2242</td>\n",
       "    </tr>\n",
       "    <tr>\n",
       "      <th>France</th>\n",
       "      <td>1853</td>\n",
       "    </tr>\n",
       "    <tr>\n",
       "      <th>Italy</th>\n",
       "      <td>1730</td>\n",
       "    </tr>\n",
       "    <tr>\n",
       "      <th>Canada</th>\n",
       "      <td>1342</td>\n",
       "    </tr>\n",
       "    <tr>\n",
       "      <th>Argentina</th>\n",
       "      <td>1266</td>\n",
       "    </tr>\n",
       "    <tr>\n",
       "      <th>Hong Kong</th>\n",
       "      <td>850</td>\n",
       "    </tr>\n",
       "    <tr>\n",
       "      <th>South Korea</th>\n",
       "      <td>788</td>\n",
       "    </tr>\n",
       "  </tbody>\n",
       "</table>\n",
       "</div>"
      ],
      "text/plain": [
       "                          Wikipedia_Movie_ID\n",
       "Movie_Countries                             \n",
       "United States of America               30300\n",
       "India                                   8240\n",
       "United Kingdom                          5343\n",
       "Japan                                   2242\n",
       "France                                  1853\n",
       "Italy                                   1730\n",
       "Canada                                  1342\n",
       "Argentina                               1266\n",
       "Hong Kong                                850\n",
       "South Korea                              788"
      ]
     },
     "execution_count": 6,
     "metadata": {},
     "output_type": "execute_result"
    }
   ],
   "source": [
    "aggregate.top_countries_nmovies(movies_unique)"
   ]
  },
  {
   "cell_type": "markdown",
   "metadata": {},
   "source": [
    "As we see above, we don't have enough movies for China and South Korea, this study will therefore only focus on US, India, UK, Japan and France."
   ]
  },
  {
   "cell_type": "code",
   "execution_count": 7,
   "metadata": {},
   "outputs": [
    {
     "name": "stdout",
     "output_type": "stream",
     "text": [
      "Dropped 16391 movies, 47978 movies remaining.\n"
     ]
    }
   ],
   "source": [
    "countries_of_interest = ['United States of America', 'India', 'United Kingdom', 'Japan', 'France']\n",
    "movies_filtered = clean.keep_countries(movies_unique, countries_of_interest)\n",
    "nmovies_filtered = aggregate.nmovies(movies_filtered)\n",
    "print(f'Dropped {nmovies_unique - nmovies_filtered} movies, {nmovies_filtered} movies remaining.')"
   ]
  },
  {
   "cell_type": "markdown",
   "metadata": {},
   "source": [
    "Now we only keep the characters that come from these countries and add the country as a new column."
   ]
  },
  {
   "cell_type": "code",
   "execution_count": 8,
   "metadata": {},
   "outputs": [
    {
     "name": "stdout",
     "output_type": "stream",
     "text": [
      "Dropped 58005 characters, 125430 characters remaining.\n"
     ]
    }
   ],
   "source": [
    "characters_filtered = clean.add_countries_to_characters(characters_raw, movies_filtered)\n",
    "ncharacters_filtered = aggregate.ncharacters(characters_filtered)\n",
    "print(f'Dropped {ncharacters_raw - ncharacters_filtered} characters, {ncharacters_filtered} characters remaining.')"
   ]
  },
  {
   "cell_type": "markdown",
   "metadata": {},
   "source": [
    "As we can see the country of the movie of each character is now added as an extra column."
   ]
  },
  {
   "cell_type": "code",
   "execution_count": 9,
   "metadata": {},
   "outputs": [
    {
     "data": {
      "text/html": [
       "<div>\n",
       "<style scoped>\n",
       "    .dataframe tbody tr th:only-of-type {\n",
       "        vertical-align: middle;\n",
       "    }\n",
       "\n",
       "    .dataframe tbody tr th {\n",
       "        vertical-align: top;\n",
       "    }\n",
       "\n",
       "    .dataframe thead th {\n",
       "        text-align: right;\n",
       "    }\n",
       "</style>\n",
       "<table border=\"1\" class=\"dataframe\">\n",
       "  <thead>\n",
       "    <tr style=\"text-align: right;\">\n",
       "      <th></th>\n",
       "      <th>Character_Name</th>\n",
       "      <th>Movie_Countries</th>\n",
       "    </tr>\n",
       "  </thead>\n",
       "  <tbody>\n",
       "    <tr>\n",
       "      <th>0</th>\n",
       "      <td>Akooshay</td>\n",
       "      <td>United States of America</td>\n",
       "    </tr>\n",
       "    <tr>\n",
       "      <th>1</th>\n",
       "      <td>Lieutenant Melanie Ballard</td>\n",
       "      <td>United States of America</td>\n",
       "    </tr>\n",
       "    <tr>\n",
       "      <th>2</th>\n",
       "      <td>Desolation Williams</td>\n",
       "      <td>United States of America</td>\n",
       "    </tr>\n",
       "    <tr>\n",
       "      <th>3</th>\n",
       "      <td>Sgt Jericho Butler</td>\n",
       "      <td>United States of America</td>\n",
       "    </tr>\n",
       "    <tr>\n",
       "      <th>4</th>\n",
       "      <td>Bashira Kincaid</td>\n",
       "      <td>United States of America</td>\n",
       "    </tr>\n",
       "  </tbody>\n",
       "</table>\n",
       "</div>"
      ],
      "text/plain": [
       "               Character_Name           Movie_Countries\n",
       "0                    Akooshay  United States of America\n",
       "1  Lieutenant Melanie Ballard  United States of America\n",
       "2         Desolation Williams  United States of America\n",
       "3          Sgt Jericho Butler  United States of America\n",
       "4             Bashira Kincaid  United States of America"
      ]
     },
     "execution_count": 9,
     "metadata": {},
     "output_type": "execute_result"
    }
   ],
   "source": [
    "characters_filtered[['Character_Name', 'Movie_Countries']].head(5)"
   ]
  },
  {
   "cell_type": "markdown",
   "metadata": {},
   "source": [
    "Our cleaning is done, we see that while keeping 3% of the countries we keep around 60% of our original dataset."
   ]
  },
  {
   "cell_type": "code",
   "execution_count": 10,
   "metadata": {},
   "outputs": [
    {
     "name": "stdout",
     "output_type": "stream",
     "text": [
      "Finished filtering countries of interest:\n",
      "- Number of countries:  5 (3.4%)\n",
      "- Number of movies:     47978 (58.7%)\n",
      "- Number of characters: 125430 (68.4%)\n",
      "- Number of actors:     81896 (60.3%)\n"
     ]
    }
   ],
   "source": [
    "movies = movies_filtered.reset_index().copy()\n",
    "characters = characters_filtered.reset_index().copy()\n",
    "\n",
    "ncountries = aggregate.ncountries(movies)\n",
    "nmovies = aggregate.nmovies(movies)\n",
    "ncharacters = aggregate.ncharacters(characters)\n",
    "nactors = aggregate.nactors(characters)\n",
    "print('Finished filtering countries of interest:')\n",
    "print(f'- Number of countries:  {ncountries} ({ncountries / ncountries_raw:.1%})')\n",
    "print(f'- Number of movies:     {nmovies} ({nmovies / nmovies_raw:.1%})')\n",
    "print(f'- Number of characters: {ncharacters} ({ncharacters / ncharacters_raw:.1%})')\n",
    "print(f'- Number of actors:     {nactors} ({nactors / nactors_raw:.1%})')"
   ]
  },
  {
   "cell_type": "markdown",
   "metadata": {},
   "source": [
    "### 2.2 Filtering periods"
   ]
  },
  {
   "cell_type": "markdown",
   "metadata": {},
   "source": [
    "We convert our columns corresponding to dates from string to datetime for easier manipulation and drop unspecified dates."
   ]
  },
  {
   "cell_type": "code",
   "execution_count": 11,
   "metadata": {},
   "outputs": [
    {
     "name": "stdout",
     "output_type": "stream",
     "text": [
      "Dropped 926 characters, 124504 characters remaining.\n",
      "Dropped 2477 movies, 45501 movies remaining.\n"
     ]
    }
   ],
   "source": [
    "characters_parsed = clean.parse_dates(characters)\n",
    "movies_parsed = clean.parse_dates(movies)\n",
    "\n",
    "ncharacters_parsed = aggregate.ncharacters(characters_parsed)\n",
    "nmovies_parsed = aggregate.nmovies(movies_parsed)\n",
    "\n",
    "print(f'Dropped {ncharacters - ncharacters_parsed} characters, {ncharacters_parsed} characters remaining.')\n",
    "print(f'Dropped {nmovies - nmovies_parsed} movies, {nmovies_parsed} movies remaining.')"
   ]
  },
  {
   "cell_type": "markdown",
   "metadata": {},
   "source": [
    "As a sanity check we make sure that the movie release dates are the same in the movies and characters tables."
   ]
  },
  {
   "cell_type": "code",
   "execution_count": 12,
   "metadata": {},
   "outputs": [
    {
     "name": "stdout",
     "output_type": "stream",
     "text": [
      "There are 0 differences between the movie and character dates.\n"
     ]
    }
   ],
   "source": [
    "ndifferences = clean.date_differences(movies_parsed, characters_parsed)\n",
    "print(f'There are {ndifferences} differences between the movie and character dates.')"
   ]
  },
  {
   "cell_type": "markdown",
   "metadata": {},
   "source": [
    "We need a good representation of movies of each country over time.\n",
    "We visualize the number of movies over time and the fraction from each country to select a representative time interval."
   ]
  },
  {
   "cell_type": "code",
   "execution_count": 13,
   "metadata": {},
   "outputs": [
    {
     "data": {
      "image/png": "[encoded data removed]",
      "text/plain": [
       "<Figure size 1200x400 with 2 Axes>"
      ]
     },
     "metadata": {},
     "output_type": "display_data"
    }
   ],
   "source": [
    "plot.movie_distribution_over_time(movies_parsed)"
   ]
  },
  {
   "cell_type": "markdown",
   "metadata": {},
   "source": [
    "Based on this visualization we select movies from 1950 to 2010 for our analysis, and see that movies from each country are sufficiently represented."
   ]
  },
  {
   "cell_type": "code",
   "execution_count": 14,
   "metadata": {},
   "outputs": [
    {
     "data": {
      "image/png": "[encoded data removed]",
      "text/plain": [
       "<Figure size 1200x400 with 2 Axes>"
      ]
     },
     "metadata": {},
     "output_type": "display_data"
    }
   ],
   "source": [
    "movies = clean.keep_dates(movies_parsed, 1950, 2010)\n",
    "characters = clean.keep_dates(characters_parsed, 1950, 2010)\n",
    "plot.movie_distribution_over_time(movies)"
   ]
  },
  {
   "cell_type": "markdown",
   "metadata": {},
   "source": [
    "This leaves us with 40% of the original movies and 55% of the original characters."
   ]
  },
  {
   "cell_type": "code",
   "execution_count": 15,
   "metadata": {},
   "outputs": [
    {
     "name": "stdout",
     "output_type": "stream",
     "text": [
      "Finished filtering countries of interest:\n",
      "- Number of countries:  5 (3.4%)\n",
      "- Number of movies:     32447 (39.7%)\n",
      "- Number of characters: 102199 (55.7%)\n",
      "- Number of actors:     70647 (52.0%)\n"
     ]
    }
   ],
   "source": [
    "ncountries = aggregate.ncountries(movies)\n",
    "nmovies = aggregate.nmovies(movies)\n",
    "ncharacters = aggregate.ncharacters(characters)\n",
    "nactors = aggregate.nactors(characters)\n",
    "print('Finished filtering countries of interest:')\n",
    "print(f'- Number of countries:  {ncountries} ({ncountries / ncountries_raw:.1%})')\n",
    "print(f'- Number of movies:     {nmovies} ({nmovies / nmovies_raw:.1%})')\n",
    "print(f'- Number of characters: {ncharacters} ({ncharacters / ncharacters_raw:.1%})')\n",
    "print(f'- Number of actors:     {nactors} ({nactors / nactors_raw:.1%})')"
   ]
  },
  {
   "cell_type": "markdown",
   "metadata": {},
   "source": [
    "## 3. Analysis of different movie industries\n",
    "\n",
    "General note: I think one thing we have to be careful of is that results will vary over time (as movie industries have changed over time).\n",
    "Therefore, it might be smart to split movies into periods and compare the evolution for each country.\n",
    "Did the movie industries diverge or converge?"
   ]
  },
  {
   "cell_type": "markdown",
   "metadata": {},
   "source": [
    "### 3.1 Trends in movie industries\n",
    "\n",
    "Metrics to analyse:\n",
    "- Movie length\n",
    "- Movie revenue\n",
    "- Movie budgets (adjusted for inflation, will need external database for this)\n",
    "- Movie genres\n",
    "\n",
    "It could be interesting to have some NLP insights here from the summaries across countries over time"
   ]
  },
  {
   "cell_type": "markdown",
   "metadata": {},
   "source": [
    "### 3.2 Diversity across industries\n",
    "\n",
    "Possible metrics between countries:\n",
    "- Age\n",
    "- Gender ratio\n",
    "- Ethnicity (although not much data, not sure if we can complete w/ other datasources)\n",
    "- Actor height compared to national averages\n",
    "\n",
    "This task should be similar to H1, just comparing populations using the appropriate statistic metrics.\n",
    "\n",
    "Initial needed data wrangling:\n",
    "- Age should be in the right range\n",
    "- Gender ratio in an appropriate format for comparing\n",
    "- Check if there is enough ethnicity data and if not try to obtain them from outside data source\n",
    "- Obtain national heigh averages and compare them with appropriate methods"
   ]
  },
  {
   "cell_type": "markdown",
   "metadata": {},
   "source": [
    "### 3.3 Success across industries\n",
    "\n",
    "Our intial question, but now more precisely comparing across different countries.\n",
    "What factors predict the success of a movie (financial and rating), and do they differ across the different countries?"
   ]
  }
 ],
 "metadata": {
  "kernelspec": {
   "display_name": "Python 3.9.13 ('ada')",
   "language": "python",
   "name": "python3"
  },
  "language_info": {
   "codemirror_mode": {
    "name": "ipython",
    "version": 3
   },
   "file_extension": ".py",
   "mimetype": "text/x-python",
   "name": "python",
   "nbconvert_exporter": "python",
   "pygments_lexer": "ipython3",
   "version": "3.9.13"
  },
  "orig_nbformat": 4,
  "vscode": {
   "interpreter": {
    "hash": "7144cc56e842941ac6064be0b274221e2d85632a37b7a3dbee8e6f7f8643f919"
   }
  }
 },
 "nbformat": 4,
 "nbformat_minor": 2
}
